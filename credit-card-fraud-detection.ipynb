{
 "cells": [
  {
   "cell_type": "code",
   "execution_count": 1,
   "id": "4e642eb5",
   "metadata": {
    "_cell_guid": "b1076dfc-b9ad-4769-8c92-a6c4dae69d19",
    "_uuid": "8f2839f25d086af736a60e9eeb907d3b93b6e0e5",
    "execution": {
     "iopub.execute_input": "2023-05-29T07:34:51.337821Z",
     "iopub.status.busy": "2023-05-29T07:34:51.337324Z",
     "iopub.status.idle": "2023-05-29T07:34:51.366540Z",
     "shell.execute_reply": "2023-05-29T07:34:51.364942Z"
    },
    "papermill": {
     "duration": 0.046698,
     "end_time": "2023-05-29T07:34:51.369235",
     "exception": false,
     "start_time": "2023-05-29T07:34:51.322537",
     "status": "completed"
    },
    "tags": []
   },
   "outputs": [
    {
     "name": "stdout",
     "output_type": "stream",
     "text": [
      "/kaggle/input/fraud-detection-credit-card/creditcard.csv\n"
     ]
    }
   ],
   "source": [
    "# This Python 3 environment comes with many helpful analytics libraries installed\n",
    "# It is defined by the kaggle/python Docker image: https://github.com/kaggle/docker-python\n",
    "# For example, here's several helpful packages to load\n",
    "\n",
    "import numpy as np # linear algebra\n",
    "import pandas as pd # data processing, CSV file I/O (e.g. pd.read_csv)\n",
    "\n",
    "# Input data files are available in the read-only \"../input/\" directory\n",
    "# For example, running this (by clicking run or pressing Shift+Enter) will list all files under the input directory\n",
    "\n",
    "import os\n",
    "for dirname, _, filenames in os.walk('/kaggle/input'):\n",
    "    for filename in filenames:\n",
    "        print(os.path.join(dirname, filename))\n",
    "\n",
    "# You can write up to 20GB to the current directory (/kaggle/working/) that gets preserved as output when you create a version using \"Save & Run All\" \n",
    "# You can also write temporary files to /kaggle/temp/, but they won't be saved outside of the current session"
   ]
  },
  {
   "cell_type": "code",
   "execution_count": 2,
   "id": "6bbf73c5",
   "metadata": {
    "execution": {
     "iopub.execute_input": "2023-05-29T07:34:51.395981Z",
     "iopub.status.busy": "2023-05-29T07:34:51.395488Z",
     "iopub.status.idle": "2023-05-29T07:34:52.795000Z",
     "shell.execute_reply": "2023-05-29T07:34:52.793515Z"
    },
    "papermill": {
     "duration": 1.415941,
     "end_time": "2023-05-29T07:34:52.797807",
     "exception": false,
     "start_time": "2023-05-29T07:34:51.381866",
     "status": "completed"
    },
    "tags": []
   },
   "outputs": [
    {
     "name": "stderr",
     "output_type": "stream",
     "text": [
      "/opt/conda/lib/python3.10/site-packages/scipy/__init__.py:146: UserWarning: A NumPy version >=1.16.5 and <1.23.0 is required for this version of SciPy (detected version 1.23.5\n",
      "  warnings.warn(f\"A NumPy version >={np_minversion} and <{np_maxversion}\"\n"
     ]
    }
   ],
   "source": [
    "import matplotlib.pyplot as plt\n",
    "%matplotlib inline\n",
    "import seaborn as sns\n",
    "sns.set()\n",
    "import warnings\n",
    "warnings.filterwarnings(\"ignore\")"
   ]
  },
  {
   "cell_type": "code",
   "execution_count": 3,
   "id": "87cf93f6",
   "metadata": {
    "execution": {
     "iopub.execute_input": "2023-05-29T07:34:52.824621Z",
     "iopub.status.busy": "2023-05-29T07:34:52.824217Z",
     "iopub.status.idle": "2023-05-29T07:34:56.609281Z",
     "shell.execute_reply": "2023-05-29T07:34:56.608036Z"
    },
    "papermill": {
     "duration": 3.801474,
     "end_time": "2023-05-29T07:34:56.611960",
     "exception": false,
     "start_time": "2023-05-29T07:34:52.810486",
     "status": "completed"
    },
    "tags": []
   },
   "outputs": [
    {
     "data": {
      "text/html": [
       "<div>\n",
       "<style scoped>\n",
       "    .dataframe tbody tr th:only-of-type {\n",
       "        vertical-align: middle;\n",
       "    }\n",
       "\n",
       "    .dataframe tbody tr th {\n",
       "        vertical-align: top;\n",
       "    }\n",
       "\n",
       "    .dataframe thead th {\n",
       "        text-align: right;\n",
       "    }\n",
       "</style>\n",
       "<table border=\"1\" class=\"dataframe\">\n",
       "  <thead>\n",
       "    <tr style=\"text-align: right;\">\n",
       "      <th></th>\n",
       "      <th>Time</th>\n",
       "      <th>V1</th>\n",
       "      <th>V2</th>\n",
       "      <th>V3</th>\n",
       "      <th>V4</th>\n",
       "      <th>V5</th>\n",
       "      <th>V6</th>\n",
       "      <th>V7</th>\n",
       "      <th>V8</th>\n",
       "      <th>V9</th>\n",
       "      <th>...</th>\n",
       "      <th>V21</th>\n",
       "      <th>V22</th>\n",
       "      <th>V23</th>\n",
       "      <th>V24</th>\n",
       "      <th>V25</th>\n",
       "      <th>V26</th>\n",
       "      <th>V27</th>\n",
       "      <th>V28</th>\n",
       "      <th>Amount</th>\n",
       "      <th>class</th>\n",
       "    </tr>\n",
       "  </thead>\n",
       "  <tbody>\n",
       "    <tr>\n",
       "      <th>0</th>\n",
       "      <td>0.0</td>\n",
       "      <td>-1.359807</td>\n",
       "      <td>-0.072781</td>\n",
       "      <td>2.536347</td>\n",
       "      <td>1.378155</td>\n",
       "      <td>-0.338321</td>\n",
       "      <td>0.462388</td>\n",
       "      <td>0.239599</td>\n",
       "      <td>0.098698</td>\n",
       "      <td>0.363787</td>\n",
       "      <td>...</td>\n",
       "      <td>-0.018307</td>\n",
       "      <td>0.277838</td>\n",
       "      <td>-0.110474</td>\n",
       "      <td>0.066928</td>\n",
       "      <td>0.128539</td>\n",
       "      <td>-0.189115</td>\n",
       "      <td>0.133558</td>\n",
       "      <td>-0.021053</td>\n",
       "      <td>149.62</td>\n",
       "      <td>0</td>\n",
       "    </tr>\n",
       "    <tr>\n",
       "      <th>1</th>\n",
       "      <td>0.0</td>\n",
       "      <td>1.191857</td>\n",
       "      <td>0.266151</td>\n",
       "      <td>0.166480</td>\n",
       "      <td>0.448154</td>\n",
       "      <td>0.060018</td>\n",
       "      <td>-0.082361</td>\n",
       "      <td>-0.078803</td>\n",
       "      <td>0.085102</td>\n",
       "      <td>-0.255425</td>\n",
       "      <td>...</td>\n",
       "      <td>-0.225775</td>\n",
       "      <td>-0.638672</td>\n",
       "      <td>0.101288</td>\n",
       "      <td>-0.339846</td>\n",
       "      <td>0.167170</td>\n",
       "      <td>0.125895</td>\n",
       "      <td>-0.008983</td>\n",
       "      <td>0.014724</td>\n",
       "      <td>2.69</td>\n",
       "      <td>0</td>\n",
       "    </tr>\n",
       "    <tr>\n",
       "      <th>2</th>\n",
       "      <td>1.0</td>\n",
       "      <td>-1.358354</td>\n",
       "      <td>-1.340163</td>\n",
       "      <td>1.773209</td>\n",
       "      <td>0.379780</td>\n",
       "      <td>-0.503198</td>\n",
       "      <td>1.800499</td>\n",
       "      <td>0.791461</td>\n",
       "      <td>0.247676</td>\n",
       "      <td>-1.514654</td>\n",
       "      <td>...</td>\n",
       "      <td>0.247998</td>\n",
       "      <td>0.771679</td>\n",
       "      <td>0.909412</td>\n",
       "      <td>-0.689281</td>\n",
       "      <td>-0.327642</td>\n",
       "      <td>-0.139097</td>\n",
       "      <td>-0.055353</td>\n",
       "      <td>-0.059752</td>\n",
       "      <td>378.66</td>\n",
       "      <td>0</td>\n",
       "    </tr>\n",
       "    <tr>\n",
       "      <th>3</th>\n",
       "      <td>1.0</td>\n",
       "      <td>-0.966272</td>\n",
       "      <td>-0.185226</td>\n",
       "      <td>1.792993</td>\n",
       "      <td>-0.863291</td>\n",
       "      <td>-0.010309</td>\n",
       "      <td>1.247203</td>\n",
       "      <td>0.237609</td>\n",
       "      <td>0.377436</td>\n",
       "      <td>-1.387024</td>\n",
       "      <td>...</td>\n",
       "      <td>-0.108300</td>\n",
       "      <td>0.005274</td>\n",
       "      <td>-0.190321</td>\n",
       "      <td>-1.175575</td>\n",
       "      <td>0.647376</td>\n",
       "      <td>-0.221929</td>\n",
       "      <td>0.062723</td>\n",
       "      <td>0.061458</td>\n",
       "      <td>123.50</td>\n",
       "      <td>0</td>\n",
       "    </tr>\n",
       "    <tr>\n",
       "      <th>4</th>\n",
       "      <td>2.0</td>\n",
       "      <td>-1.158233</td>\n",
       "      <td>0.877737</td>\n",
       "      <td>1.548718</td>\n",
       "      <td>0.403034</td>\n",
       "      <td>-0.407193</td>\n",
       "      <td>0.095921</td>\n",
       "      <td>0.592941</td>\n",
       "      <td>-0.270533</td>\n",
       "      <td>0.817739</td>\n",
       "      <td>...</td>\n",
       "      <td>-0.009431</td>\n",
       "      <td>0.798278</td>\n",
       "      <td>-0.137458</td>\n",
       "      <td>0.141267</td>\n",
       "      <td>-0.206010</td>\n",
       "      <td>0.502292</td>\n",
       "      <td>0.219422</td>\n",
       "      <td>0.215153</td>\n",
       "      <td>69.99</td>\n",
       "      <td>0</td>\n",
       "    </tr>\n",
       "  </tbody>\n",
       "</table>\n",
       "<p>5 rows × 31 columns</p>\n",
       "</div>"
      ],
      "text/plain": [
       "   Time        V1        V2        V3        V4        V5        V6        V7  \\\n",
       "0   0.0 -1.359807 -0.072781  2.536347  1.378155 -0.338321  0.462388  0.239599   \n",
       "1   0.0  1.191857  0.266151  0.166480  0.448154  0.060018 -0.082361 -0.078803   \n",
       "2   1.0 -1.358354 -1.340163  1.773209  0.379780 -0.503198  1.800499  0.791461   \n",
       "3   1.0 -0.966272 -0.185226  1.792993 -0.863291 -0.010309  1.247203  0.237609   \n",
       "4   2.0 -1.158233  0.877737  1.548718  0.403034 -0.407193  0.095921  0.592941   \n",
       "\n",
       "         V8        V9  ...       V21       V22       V23       V24       V25  \\\n",
       "0  0.098698  0.363787  ... -0.018307  0.277838 -0.110474  0.066928  0.128539   \n",
       "1  0.085102 -0.255425  ... -0.225775 -0.638672  0.101288 -0.339846  0.167170   \n",
       "2  0.247676 -1.514654  ...  0.247998  0.771679  0.909412 -0.689281 -0.327642   \n",
       "3  0.377436 -1.387024  ... -0.108300  0.005274 -0.190321 -1.175575  0.647376   \n",
       "4 -0.270533  0.817739  ... -0.009431  0.798278 -0.137458  0.141267 -0.206010   \n",
       "\n",
       "        V26       V27       V28  Amount  class  \n",
       "0 -0.189115  0.133558 -0.021053  149.62      0  \n",
       "1  0.125895 -0.008983  0.014724    2.69      0  \n",
       "2 -0.139097 -0.055353 -0.059752  378.66      0  \n",
       "3 -0.221929  0.062723  0.061458  123.50      0  \n",
       "4  0.502292  0.219422  0.215153   69.99      0  \n",
       "\n",
       "[5 rows x 31 columns]"
      ]
     },
     "execution_count": 3,
     "metadata": {},
     "output_type": "execute_result"
    }
   ],
   "source": [
    "df = pd.read_csv('/kaggle/input/fraud-detection-credit-card/creditcard.csv')\n",
    "df.head()"
   ]
  },
  {
   "cell_type": "code",
   "execution_count": 4,
   "id": "7d60d259",
   "metadata": {
    "execution": {
     "iopub.execute_input": "2023-05-29T07:34:56.639751Z",
     "iopub.status.busy": "2023-05-29T07:34:56.639374Z",
     "iopub.status.idle": "2023-05-29T07:34:56.684781Z",
     "shell.execute_reply": "2023-05-29T07:34:56.682799Z"
    },
    "papermill": {
     "duration": 0.062426,
     "end_time": "2023-05-29T07:34:56.687475",
     "exception": false,
     "start_time": "2023-05-29T07:34:56.625049",
     "status": "completed"
    },
    "tags": []
   },
   "outputs": [
    {
     "name": "stdout",
     "output_type": "stream",
     "text": [
      "<class 'pandas.core.frame.DataFrame'>\n",
      "RangeIndex: 284807 entries, 0 to 284806\n",
      "Data columns (total 31 columns):\n",
      " #   Column  Non-Null Count   Dtype  \n",
      "---  ------  --------------   -----  \n",
      " 0   Time    284807 non-null  float64\n",
      " 1   V1      284807 non-null  float64\n",
      " 2   V2      284807 non-null  float64\n",
      " 3   V3      284807 non-null  float64\n",
      " 4   V4      284807 non-null  float64\n",
      " 5   V5      284807 non-null  float64\n",
      " 6   V6      284807 non-null  float64\n",
      " 7   V7      284807 non-null  float64\n",
      " 8   V8      284807 non-null  float64\n",
      " 9   V9      284807 non-null  float64\n",
      " 10  V10     284807 non-null  float64\n",
      " 11  V11     284807 non-null  float64\n",
      " 12  V12     284807 non-null  float64\n",
      " 13  V13     284807 non-null  float64\n",
      " 14  V14     284807 non-null  float64\n",
      " 15  V15     284807 non-null  float64\n",
      " 16  V16     284807 non-null  float64\n",
      " 17  V17     284807 non-null  float64\n",
      " 18  V18     284807 non-null  float64\n",
      " 19  V19     284807 non-null  float64\n",
      " 20  V20     284807 non-null  float64\n",
      " 21  V21     284807 non-null  float64\n",
      " 22  V22     284807 non-null  float64\n",
      " 23  V23     284807 non-null  float64\n",
      " 24  V24     284807 non-null  float64\n",
      " 25  V25     284807 non-null  float64\n",
      " 26  V26     284807 non-null  float64\n",
      " 27  V27     284807 non-null  float64\n",
      " 28  V28     284807 non-null  float64\n",
      " 29  Amount  284807 non-null  float64\n",
      " 30  class   284807 non-null  int64  \n",
      "dtypes: float64(30), int64(1)\n",
      "memory usage: 67.4 MB\n"
     ]
    }
   ],
   "source": [
    "df.info()"
   ]
  },
  {
   "cell_type": "code",
   "execution_count": 5,
   "id": "f8b77fcb",
   "metadata": {
    "execution": {
     "iopub.execute_input": "2023-05-29T07:34:56.715222Z",
     "iopub.status.busy": "2023-05-29T07:34:56.714736Z",
     "iopub.status.idle": "2023-05-29T07:34:56.721577Z",
     "shell.execute_reply": "2023-05-29T07:34:56.720694Z"
    },
    "papermill": {
     "duration": 0.023115,
     "end_time": "2023-05-29T07:34:56.723633",
     "exception": false,
     "start_time": "2023-05-29T07:34:56.700518",
     "status": "completed"
    },
    "tags": []
   },
   "outputs": [
    {
     "data": {
      "text/plain": [
       "(284807, 31)"
      ]
     },
     "execution_count": 5,
     "metadata": {},
     "output_type": "execute_result"
    }
   ],
   "source": [
    "df.shape"
   ]
  },
  {
   "cell_type": "code",
   "execution_count": 6,
   "id": "38c3195e",
   "metadata": {
    "execution": {
     "iopub.execute_input": "2023-05-29T07:34:56.752340Z",
     "iopub.status.busy": "2023-05-29T07:34:56.751900Z",
     "iopub.status.idle": "2023-05-29T07:34:56.794471Z",
     "shell.execute_reply": "2023-05-29T07:34:56.793134Z"
    },
    "papermill": {
     "duration": 0.060223,
     "end_time": "2023-05-29T07:34:56.797194",
     "exception": false,
     "start_time": "2023-05-29T07:34:56.736971",
     "status": "completed"
    },
    "tags": []
   },
   "outputs": [
    {
     "data": {
      "text/plain": [
       "163152.0    36\n",
       "64947.0     26\n",
       "68780.0     25\n",
       "3767.0      21\n",
       "3770.0      20\n",
       "            ..\n",
       "127750.0     1\n",
       "62260.0      1\n",
       "62259.0      1\n",
       "127753.0     1\n",
       "172792.0     1\n",
       "Name: Time, Length: 124592, dtype: int64"
      ]
     },
     "execution_count": 6,
     "metadata": {},
     "output_type": "execute_result"
    }
   ],
   "source": [
    "df['Time'].value_counts()"
   ]
  },
  {
   "cell_type": "code",
   "execution_count": 7,
   "id": "77b5970a",
   "metadata": {
    "execution": {
     "iopub.execute_input": "2023-05-29T07:34:56.831824Z",
     "iopub.status.busy": "2023-05-29T07:34:56.830853Z",
     "iopub.status.idle": "2023-05-29T07:34:56.858148Z",
     "shell.execute_reply": "2023-05-29T07:34:56.856947Z"
    },
    "papermill": {
     "duration": 0.050392,
     "end_time": "2023-05-29T07:34:56.862648",
     "exception": false,
     "start_time": "2023-05-29T07:34:56.812256",
     "status": "completed"
    },
    "tags": []
   },
   "outputs": [
    {
     "data": {
      "text/plain": [
       "Time      0\n",
       "V1        0\n",
       "V2        0\n",
       "V3        0\n",
       "V4        0\n",
       "V5        0\n",
       "V6        0\n",
       "V7        0\n",
       "V8        0\n",
       "V9        0\n",
       "V10       0\n",
       "V11       0\n",
       "V12       0\n",
       "V13       0\n",
       "V14       0\n",
       "V15       0\n",
       "V16       0\n",
       "V17       0\n",
       "V18       0\n",
       "V19       0\n",
       "V20       0\n",
       "V21       0\n",
       "V22       0\n",
       "V23       0\n",
       "V24       0\n",
       "V25       0\n",
       "V26       0\n",
       "V27       0\n",
       "V28       0\n",
       "Amount    0\n",
       "class     0\n",
       "dtype: int64"
      ]
     },
     "execution_count": 7,
     "metadata": {},
     "output_type": "execute_result"
    }
   ],
   "source": [
    "## Checking for missing value\n",
    "df.isnull().sum()"
   ]
  },
  {
   "cell_type": "code",
   "execution_count": 8,
   "id": "eeacc2aa",
   "metadata": {
    "execution": {
     "iopub.execute_input": "2023-05-29T07:34:56.894549Z",
     "iopub.status.busy": "2023-05-29T07:34:56.894168Z",
     "iopub.status.idle": "2023-05-29T07:34:56.904988Z",
     "shell.execute_reply": "2023-05-29T07:34:56.903659Z"
    },
    "papermill": {
     "duration": 0.027821,
     "end_time": "2023-05-29T07:34:56.907273",
     "exception": false,
     "start_time": "2023-05-29T07:34:56.879452",
     "status": "completed"
    },
    "tags": []
   },
   "outputs": [
    {
     "data": {
      "text/plain": [
       "0    284315\n",
       "1       492\n",
       "Name: class, dtype: int64"
      ]
     },
     "execution_count": 8,
     "metadata": {},
     "output_type": "execute_result"
    }
   ],
   "source": [
    "df['class'].value_counts()"
   ]
  },
  {
   "cell_type": "markdown",
   "id": "50333e96",
   "metadata": {
    "execution": {
     "iopub.execute_input": "2023-05-23T06:53:07.518365Z",
     "iopub.status.busy": "2023-05-23T06:53:07.517556Z",
     "iopub.status.idle": "2023-05-23T06:53:07.526680Z",
     "shell.execute_reply": "2023-05-23T06:53:07.525053Z",
     "shell.execute_reply.started": "2023-05-23T06:53:07.518317Z"
    },
    "papermill": {
     "duration": 0.013115,
     "end_time": "2023-05-29T07:34:56.933974",
     "exception": false,
     "start_time": "2023-05-29T07:34:56.920859",
     "status": "completed"
    },
    "tags": []
   },
   "source": [
    "The Dataset is imbalanced."
   ]
  },
  {
   "cell_type": "code",
   "execution_count": 9,
   "id": "33e89999",
   "metadata": {
    "execution": {
     "iopub.execute_input": "2023-05-29T07:34:56.962533Z",
     "iopub.status.busy": "2023-05-29T07:34:56.962168Z",
     "iopub.status.idle": "2023-05-29T07:34:57.248536Z",
     "shell.execute_reply": "2023-05-29T07:34:57.247449Z"
    },
    "papermill": {
     "duration": 0.303356,
     "end_time": "2023-05-29T07:34:57.250826",
     "exception": false,
     "start_time": "2023-05-29T07:34:56.947470",
     "status": "completed"
    },
    "tags": []
   },
   "outputs": [
    {
     "data": {
      "image/png": "[encoded data removed]",
      "text/plain": [
       "<Figure size 640x480 with 1 Axes>"
      ]
     },
     "metadata": {},
     "output_type": "display_data"
    }
   ],
   "source": [
    "count_classes = df['class'].value_counts()\n",
    "count_classes.plot(kind = 'bar', rot = 0)\n",
    "plt.xticks(range(2),['Not Fraud', 'Fraud'])\n",
    "plt.xlabel('Class')\n",
    "plt.ylabel('Frequency')\n",
    "plt.title('Class Distribution')\n",
    "plt.show()"
   ]
  },
  {
   "cell_type": "code",
   "execution_count": 10,
   "id": "37928335",
   "metadata": {
    "execution": {
     "iopub.execute_input": "2023-05-29T07:34:57.280597Z",
     "iopub.status.busy": "2023-05-29T07:34:57.280228Z",
     "iopub.status.idle": "2023-05-29T07:34:57.326233Z",
     "shell.execute_reply": "2023-05-29T07:34:57.324924Z"
    },
    "papermill": {
     "duration": 0.064151,
     "end_time": "2023-05-29T07:34:57.328966",
     "exception": false,
     "start_time": "2023-05-29T07:34:57.264815",
     "status": "completed"
    },
    "tags": []
   },
   "outputs": [],
   "source": [
    "fraud = df[df['class'] == 1]\n",
    "not_fraud = df[df['class'] == 0]"
   ]
  },
  {
   "cell_type": "code",
   "execution_count": 11,
   "id": "303a38b6",
   "metadata": {
    "execution": {
     "iopub.execute_input": "2023-05-29T07:34:57.359485Z",
     "iopub.status.busy": "2023-05-29T07:34:57.359051Z",
     "iopub.status.idle": "2023-05-29T07:34:57.371512Z",
     "shell.execute_reply": "2023-05-29T07:34:57.370468Z"
    },
    "papermill": {
     "duration": 0.030554,
     "end_time": "2023-05-29T07:34:57.373918",
     "exception": false,
     "start_time": "2023-05-29T07:34:57.343364",
     "status": "completed"
    },
    "tags": []
   },
   "outputs": [
    {
     "data": {
      "text/plain": [
       "count     492.000000\n",
       "mean      122.211321\n",
       "std       256.683288\n",
       "min         0.000000\n",
       "25%         1.000000\n",
       "50%         9.250000\n",
       "75%       105.890000\n",
       "max      2125.870000\n",
       "Name: Amount, dtype: float64"
      ]
     },
     "execution_count": 11,
     "metadata": {},
     "output_type": "execute_result"
    }
   ],
   "source": [
    "fraud.Amount.describe()"
   ]
  },
  {
   "cell_type": "code",
   "execution_count": 12,
   "id": "3e81bc12",
   "metadata": {
    "execution": {
     "iopub.execute_input": "2023-05-29T07:34:57.404169Z",
     "iopub.status.busy": "2023-05-29T07:34:57.403172Z",
     "iopub.status.idle": "2023-05-29T07:34:57.424433Z",
     "shell.execute_reply": "2023-05-29T07:34:57.423617Z"
    },
    "papermill": {
     "duration": 0.038617,
     "end_time": "2023-05-29T07:34:57.426624",
     "exception": false,
     "start_time": "2023-05-29T07:34:57.388007",
     "status": "completed"
    },
    "tags": []
   },
   "outputs": [
    {
     "data": {
      "text/plain": [
       "count    284315.000000\n",
       "mean         88.291022\n",
       "std         250.105092\n",
       "min           0.000000\n",
       "25%           5.650000\n",
       "50%          22.000000\n",
       "75%          77.050000\n",
       "max       25691.160000\n",
       "Name: Amount, dtype: float64"
      ]
     },
     "execution_count": 12,
     "metadata": {},
     "output_type": "execute_result"
    }
   ],
   "source": [
    "not_fraud.Amount.describe()"
   ]
  },
  {
   "cell_type": "code",
   "execution_count": 13,
   "id": "2676b702",
   "metadata": {
    "execution": {
     "iopub.execute_input": "2023-05-29T07:34:57.457064Z",
     "iopub.status.busy": "2023-05-29T07:34:57.456466Z",
     "iopub.status.idle": "2023-05-29T07:34:58.067129Z",
     "shell.execute_reply": "2023-05-29T07:34:58.066001Z"
    },
    "papermill": {
     "duration": 0.628617,
     "end_time": "2023-05-29T07:34:58.069740",
     "exception": false,
     "start_time": "2023-05-29T07:34:57.441123",
     "status": "completed"
    },
    "tags": []
   },
   "outputs": [
    {
     "data": {
      "image/png": "[encoded data removed]",
      "text/plain": [
       "<Figure size 640x480 with 2 Axes>"
      ]
     },
     "metadata": {},
     "output_type": "display_data"
    }
   ],
   "source": [
    "f, (ax1, ax2) = plt.subplots(2,1, sharex = True)\n",
    "f.suptitle(\"Distribustion of Amount by Class\")\n",
    "\n",
    "ax1.hist(fraud.Amount, bins = 5)\n",
    "ax1.set_title(\"fraud Transaction\")\n",
    "\n",
    "ax2.hist(not_fraud.Amount, bins = 50)\n",
    "ax2.set_title(\"Non - fraud Transaction\")\n",
    "\n",
    "plt.xlabel(\"Amount\")\n",
    "plt.ylabel(\"No. of Transaction\")\n",
    "\n",
    "plt.xlim(0,25000)\n",
    "plt.yscale('log')\n",
    "plt.show()"
   ]
  },
  {
   "cell_type": "code",
   "execution_count": 14,
   "id": "f49333bf",
   "metadata": {
    "execution": {
     "iopub.execute_input": "2023-05-29T07:34:58.101526Z",
     "iopub.status.busy": "2023-05-29T07:34:58.101116Z",
     "iopub.status.idle": "2023-05-29T07:34:59.157886Z",
     "shell.execute_reply": "2023-05-29T07:34:59.156400Z"
    },
    "papermill": {
     "duration": 1.075738,
     "end_time": "2023-05-29T07:34:59.160467",
     "exception": false,
     "start_time": "2023-05-29T07:34:58.084729",
     "status": "completed"
    },
    "tags": []
   },
   "outputs": [
    {
     "data": {
      "image/png": "[encoded data removed]",
      "text/plain": [
       "<Figure size 640x480 with 2 Axes>"
      ]
     },
     "metadata": {},
     "output_type": "display_data"
    }
   ],
   "source": [
    "f, (ax1, ax2) = plt.subplots(2,1, sharex=True)\n",
    "f.suptitle(\"Time of transaction vs Amount by Class\")\n",
    "\n",
    "ax1.scatter(fraud.Time, fraud.Amount)\n",
    "ax1.set_title('Fraud Transaction by Time')\n",
    "\n",
    "ax2.scatter(not_fraud.Time, not_fraud.Amount)\n",
    "ax2.set_title('Normal Transaction by Time')\n",
    "\n",
    "plt.xlabel(\"Time (in Second)\")\n",
    "plt.ylabel(\"Amount\")\n",
    "\n",
    "plt.show()"
   ]
  },
  {
   "cell_type": "code",
   "execution_count": 15,
   "id": "0c2e9f18",
   "metadata": {
    "execution": {
     "iopub.execute_input": "2023-05-29T07:34:59.195831Z",
     "iopub.status.busy": "2023-05-29T07:34:59.195026Z",
     "iopub.status.idle": "2023-05-29T07:34:59.221995Z",
     "shell.execute_reply": "2023-05-29T07:34:59.220797Z"
    },
    "papermill": {
     "duration": 0.047392,
     "end_time": "2023-05-29T07:34:59.224684",
     "exception": false,
     "start_time": "2023-05-29T07:34:59.177292",
     "status": "completed"
    },
    "tags": []
   },
   "outputs": [
    {
     "data": {
      "text/html": [
       "<div>\n",
       "<style scoped>\n",
       "    .dataframe tbody tr th:only-of-type {\n",
       "        vertical-align: middle;\n",
       "    }\n",
       "\n",
       "    .dataframe tbody tr th {\n",
       "        vertical-align: top;\n",
       "    }\n",
       "\n",
       "    .dataframe thead th {\n",
       "        text-align: right;\n",
       "    }\n",
       "</style>\n",
       "<table border=\"1\" class=\"dataframe\">\n",
       "  <thead>\n",
       "    <tr style=\"text-align: right;\">\n",
       "      <th></th>\n",
       "      <th>Time</th>\n",
       "      <th>V1</th>\n",
       "      <th>V2</th>\n",
       "      <th>V3</th>\n",
       "      <th>V4</th>\n",
       "      <th>V5</th>\n",
       "      <th>V6</th>\n",
       "      <th>V7</th>\n",
       "      <th>V8</th>\n",
       "      <th>V9</th>\n",
       "      <th>...</th>\n",
       "      <th>V21</th>\n",
       "      <th>V22</th>\n",
       "      <th>V23</th>\n",
       "      <th>V24</th>\n",
       "      <th>V25</th>\n",
       "      <th>V26</th>\n",
       "      <th>V27</th>\n",
       "      <th>V28</th>\n",
       "      <th>Amount</th>\n",
       "      <th>class</th>\n",
       "    </tr>\n",
       "  </thead>\n",
       "  <tbody>\n",
       "    <tr>\n",
       "      <th>0</th>\n",
       "      <td>0.0</td>\n",
       "      <td>-1.359807</td>\n",
       "      <td>-0.072781</td>\n",
       "      <td>2.536347</td>\n",
       "      <td>1.378155</td>\n",
       "      <td>-0.338321</td>\n",
       "      <td>0.462388</td>\n",
       "      <td>0.239599</td>\n",
       "      <td>0.098698</td>\n",
       "      <td>0.363787</td>\n",
       "      <td>...</td>\n",
       "      <td>-0.018307</td>\n",
       "      <td>0.277838</td>\n",
       "      <td>-0.110474</td>\n",
       "      <td>0.066928</td>\n",
       "      <td>0.128539</td>\n",
       "      <td>-0.189115</td>\n",
       "      <td>0.133558</td>\n",
       "      <td>-0.021053</td>\n",
       "      <td>149.62</td>\n",
       "      <td>0</td>\n",
       "    </tr>\n",
       "    <tr>\n",
       "      <th>1</th>\n",
       "      <td>0.0</td>\n",
       "      <td>1.191857</td>\n",
       "      <td>0.266151</td>\n",
       "      <td>0.166480</td>\n",
       "      <td>0.448154</td>\n",
       "      <td>0.060018</td>\n",
       "      <td>-0.082361</td>\n",
       "      <td>-0.078803</td>\n",
       "      <td>0.085102</td>\n",
       "      <td>-0.255425</td>\n",
       "      <td>...</td>\n",
       "      <td>-0.225775</td>\n",
       "      <td>-0.638672</td>\n",
       "      <td>0.101288</td>\n",
       "      <td>-0.339846</td>\n",
       "      <td>0.167170</td>\n",
       "      <td>0.125895</td>\n",
       "      <td>-0.008983</td>\n",
       "      <td>0.014724</td>\n",
       "      <td>2.69</td>\n",
       "      <td>0</td>\n",
       "    </tr>\n",
       "    <tr>\n",
       "      <th>2</th>\n",
       "      <td>1.0</td>\n",
       "      <td>-1.358354</td>\n",
       "      <td>-1.340163</td>\n",
       "      <td>1.773209</td>\n",
       "      <td>0.379780</td>\n",
       "      <td>-0.503198</td>\n",
       "      <td>1.800499</td>\n",
       "      <td>0.791461</td>\n",
       "      <td>0.247676</td>\n",
       "      <td>-1.514654</td>\n",
       "      <td>...</td>\n",
       "      <td>0.247998</td>\n",
       "      <td>0.771679</td>\n",
       "      <td>0.909412</td>\n",
       "      <td>-0.689281</td>\n",
       "      <td>-0.327642</td>\n",
       "      <td>-0.139097</td>\n",
       "      <td>-0.055353</td>\n",
       "      <td>-0.059752</td>\n",
       "      <td>378.66</td>\n",
       "      <td>0</td>\n",
       "    </tr>\n",
       "    <tr>\n",
       "      <th>3</th>\n",
       "      <td>1.0</td>\n",
       "      <td>-0.966272</td>\n",
       "      <td>-0.185226</td>\n",
       "      <td>1.792993</td>\n",
       "      <td>-0.863291</td>\n",
       "      <td>-0.010309</td>\n",
       "      <td>1.247203</td>\n",
       "      <td>0.237609</td>\n",
       "      <td>0.377436</td>\n",
       "      <td>-1.387024</td>\n",
       "      <td>...</td>\n",
       "      <td>-0.108300</td>\n",
       "      <td>0.005274</td>\n",
       "      <td>-0.190321</td>\n",
       "      <td>-1.175575</td>\n",
       "      <td>0.647376</td>\n",
       "      <td>-0.221929</td>\n",
       "      <td>0.062723</td>\n",
       "      <td>0.061458</td>\n",
       "      <td>123.50</td>\n",
       "      <td>0</td>\n",
       "    </tr>\n",
       "    <tr>\n",
       "      <th>4</th>\n",
       "      <td>2.0</td>\n",
       "      <td>-1.158233</td>\n",
       "      <td>0.877737</td>\n",
       "      <td>1.548718</td>\n",
       "      <td>0.403034</td>\n",
       "      <td>-0.407193</td>\n",
       "      <td>0.095921</td>\n",
       "      <td>0.592941</td>\n",
       "      <td>-0.270533</td>\n",
       "      <td>0.817739</td>\n",
       "      <td>...</td>\n",
       "      <td>-0.009431</td>\n",
       "      <td>0.798278</td>\n",
       "      <td>-0.137458</td>\n",
       "      <td>0.141267</td>\n",
       "      <td>-0.206010</td>\n",
       "      <td>0.502292</td>\n",
       "      <td>0.219422</td>\n",
       "      <td>0.215153</td>\n",
       "      <td>69.99</td>\n",
       "      <td>0</td>\n",
       "    </tr>\n",
       "  </tbody>\n",
       "</table>\n",
       "<p>5 rows × 31 columns</p>\n",
       "</div>"
      ],
      "text/plain": [
       "   Time        V1        V2        V3        V4        V5        V6        V7  \\\n",
       "0   0.0 -1.359807 -0.072781  2.536347  1.378155 -0.338321  0.462388  0.239599   \n",
       "1   0.0  1.191857  0.266151  0.166480  0.448154  0.060018 -0.082361 -0.078803   \n",
       "2   1.0 -1.358354 -1.340163  1.773209  0.379780 -0.503198  1.800499  0.791461   \n",
       "3   1.0 -0.966272 -0.185226  1.792993 -0.863291 -0.010309  1.247203  0.237609   \n",
       "4   2.0 -1.158233  0.877737  1.548718  0.403034 -0.407193  0.095921  0.592941   \n",
       "\n",
       "         V8        V9  ...       V21       V22       V23       V24       V25  \\\n",
       "0  0.098698  0.363787  ... -0.018307  0.277838 -0.110474  0.066928  0.128539   \n",
       "1  0.085102 -0.255425  ... -0.225775 -0.638672  0.101288 -0.339846  0.167170   \n",
       "2  0.247676 -1.514654  ...  0.247998  0.771679  0.909412 -0.689281 -0.327642   \n",
       "3  0.377436 -1.387024  ... -0.108300  0.005274 -0.190321 -1.175575  0.647376   \n",
       "4 -0.270533  0.817739  ... -0.009431  0.798278 -0.137458  0.141267 -0.206010   \n",
       "\n",
       "        V26       V27       V28  Amount  class  \n",
       "0 -0.189115  0.133558 -0.021053  149.62      0  \n",
       "1  0.125895 -0.008983  0.014724    2.69      0  \n",
       "2 -0.139097 -0.055353 -0.059752  378.66      0  \n",
       "3 -0.221929  0.062723  0.061458  123.50      0  \n",
       "4  0.502292  0.219422  0.215153   69.99      0  \n",
       "\n",
       "[5 rows x 31 columns]"
      ]
     },
     "execution_count": 15,
     "metadata": {},
     "output_type": "execute_result"
    }
   ],
   "source": [
    "df.head()"
   ]
  },
  {
   "cell_type": "markdown",
   "id": "49f17f1f",
   "metadata": {
    "papermill": {
     "duration": 0.016252,
     "end_time": "2023-05-29T07:34:59.257842",
     "exception": false,
     "start_time": "2023-05-29T07:34:59.241590",
     "status": "completed"
    },
    "tags": []
   },
   "source": [
    "## we are taking 20% data only for building a model"
   ]
  },
  {
   "cell_type": "code",
   "execution_count": 16,
   "id": "219ccc2d",
   "metadata": {
    "execution": {
     "iopub.execute_input": "2023-05-29T07:34:59.294024Z",
     "iopub.status.busy": "2023-05-29T07:34:59.293618Z",
     "iopub.status.idle": "2023-05-29T07:34:59.332364Z",
     "shell.execute_reply": "2023-05-29T07:34:59.331303Z"
    },
    "papermill": {
     "duration": 0.058599,
     "end_time": "2023-05-29T07:34:59.334661",
     "exception": false,
     "start_time": "2023-05-29T07:34:59.276062",
     "status": "completed"
    },
    "tags": []
   },
   "outputs": [
    {
     "data": {
      "text/plain": [
       "(56961, 31)"
      ]
     },
     "execution_count": 16,
     "metadata": {},
     "output_type": "execute_result"
    }
   ],
   "source": [
    "data = df.sample(frac=0.2, random_state=1000)\n",
    "data.shape"
   ]
  },
  {
   "cell_type": "code",
   "execution_count": 17,
   "id": "346bba99",
   "metadata": {
    "execution": {
     "iopub.execute_input": "2023-05-29T07:34:59.369371Z",
     "iopub.status.busy": "2023-05-29T07:34:59.368949Z",
     "iopub.status.idle": "2023-05-29T07:34:59.386159Z",
     "shell.execute_reply": "2023-05-29T07:34:59.384999Z"
    },
    "papermill": {
     "duration": 0.037131,
     "end_time": "2023-05-29T07:34:59.388324",
     "exception": false,
     "start_time": "2023-05-29T07:34:59.351193",
     "status": "completed"
    },
    "tags": []
   },
   "outputs": [
    {
     "name": "stdout",
     "output_type": "stream",
     "text": [
      "(106, 31)\n",
      "(56855, 31)\n"
     ]
    }
   ],
   "source": [
    "fraud = data[data['class']==1]\n",
    "valid = data[data['class']==0]\n",
    "\n",
    "print(fraud.shape)\n",
    "print(valid.shape)"
   ]
  },
  {
   "cell_type": "code",
   "execution_count": 18,
   "id": "88e6cdf7",
   "metadata": {
    "execution": {
     "iopub.execute_input": "2023-05-29T07:34:59.423176Z",
     "iopub.status.busy": "2023-05-29T07:34:59.422481Z",
     "iopub.status.idle": "2023-05-29T07:34:59.428409Z",
     "shell.execute_reply": "2023-05-29T07:34:59.427456Z"
    },
    "papermill": {
     "duration": 0.026042,
     "end_time": "2023-05-29T07:34:59.430659",
     "exception": false,
     "start_time": "2023-05-29T07:34:59.404617",
     "status": "completed"
    },
    "tags": []
   },
   "outputs": [
    {
     "data": {
      "text/plain": [
       "0.0018608243803103714"
      ]
     },
     "execution_count": 18,
     "metadata": {},
     "output_type": "execute_result"
    }
   ],
   "source": [
    "outlier_fraction = 106/(106+56858)\n",
    "outlier_fraction"
   ]
  },
  {
   "cell_type": "code",
   "execution_count": 19,
   "id": "a3421262",
   "metadata": {
    "execution": {
     "iopub.execute_input": "2023-05-29T07:34:59.466038Z",
     "iopub.status.busy": "2023-05-29T07:34:59.465372Z",
     "iopub.status.idle": "2023-05-29T07:34:59.493362Z",
     "shell.execute_reply": "2023-05-29T07:34:59.492061Z"
    },
    "papermill": {
     "duration": 0.048408,
     "end_time": "2023-05-29T07:34:59.495841",
     "exception": false,
     "start_time": "2023-05-29T07:34:59.447433",
     "status": "completed"
    },
    "tags": []
   },
   "outputs": [
    {
     "data": {
      "text/html": [
       "<div>\n",
       "<style scoped>\n",
       "    .dataframe tbody tr th:only-of-type {\n",
       "        vertical-align: middle;\n",
       "    }\n",
       "\n",
       "    .dataframe tbody tr th {\n",
       "        vertical-align: top;\n",
       "    }\n",
       "\n",
       "    .dataframe thead th {\n",
       "        text-align: right;\n",
       "    }\n",
       "</style>\n",
       "<table border=\"1\" class=\"dataframe\">\n",
       "  <thead>\n",
       "    <tr style=\"text-align: right;\">\n",
       "      <th></th>\n",
       "      <th>Time</th>\n",
       "      <th>V1</th>\n",
       "      <th>V2</th>\n",
       "      <th>V3</th>\n",
       "      <th>V4</th>\n",
       "      <th>V5</th>\n",
       "      <th>V6</th>\n",
       "      <th>V7</th>\n",
       "      <th>V8</th>\n",
       "      <th>V9</th>\n",
       "      <th>...</th>\n",
       "      <th>V21</th>\n",
       "      <th>V22</th>\n",
       "      <th>V23</th>\n",
       "      <th>V24</th>\n",
       "      <th>V25</th>\n",
       "      <th>V26</th>\n",
       "      <th>V27</th>\n",
       "      <th>V28</th>\n",
       "      <th>Amount</th>\n",
       "      <th>class</th>\n",
       "    </tr>\n",
       "  </thead>\n",
       "  <tbody>\n",
       "    <tr>\n",
       "      <th>198800</th>\n",
       "      <td>132658.0</td>\n",
       "      <td>2.056433</td>\n",
       "      <td>-0.316915</td>\n",
       "      <td>-2.789687</td>\n",
       "      <td>-0.775164</td>\n",
       "      <td>2.497163</td>\n",
       "      <td>3.164444</td>\n",
       "      <td>-0.396550</td>\n",
       "      <td>0.715194</td>\n",
       "      <td>0.448127</td>\n",
       "      <td>...</td>\n",
       "      <td>0.243647</td>\n",
       "      <td>0.743975</td>\n",
       "      <td>0.037861</td>\n",
       "      <td>0.737525</td>\n",
       "      <td>0.302948</td>\n",
       "      <td>-0.087858</td>\n",
       "      <td>-0.001144</td>\n",
       "      <td>-0.064954</td>\n",
       "      <td>3.80</td>\n",
       "      <td>0</td>\n",
       "    </tr>\n",
       "    <tr>\n",
       "      <th>95536</th>\n",
       "      <td>65359.0</td>\n",
       "      <td>-0.476480</td>\n",
       "      <td>0.967301</td>\n",
       "      <td>1.660071</td>\n",
       "      <td>0.000008</td>\n",
       "      <td>-0.106866</td>\n",
       "      <td>-0.624360</td>\n",
       "      <td>0.599600</td>\n",
       "      <td>0.085344</td>\n",
       "      <td>-0.329163</td>\n",
       "      <td>...</td>\n",
       "      <td>-0.186026</td>\n",
       "      <td>-0.470205</td>\n",
       "      <td>0.055860</td>\n",
       "      <td>0.364065</td>\n",
       "      <td>-0.331242</td>\n",
       "      <td>0.082720</td>\n",
       "      <td>0.278155</td>\n",
       "      <td>0.119504</td>\n",
       "      <td>3.57</td>\n",
       "      <td>0</td>\n",
       "    </tr>\n",
       "    <tr>\n",
       "      <th>180242</th>\n",
       "      <td>124448.0</td>\n",
       "      <td>1.943666</td>\n",
       "      <td>-1.029557</td>\n",
       "      <td>-1.276665</td>\n",
       "      <td>-0.427737</td>\n",
       "      <td>-0.815657</td>\n",
       "      <td>-1.007531</td>\n",
       "      <td>-0.293930</td>\n",
       "      <td>-0.238641</td>\n",
       "      <td>-0.743251</td>\n",
       "      <td>...</td>\n",
       "      <td>-0.027971</td>\n",
       "      <td>0.203359</td>\n",
       "      <td>0.049295</td>\n",
       "      <td>0.092062</td>\n",
       "      <td>-0.178437</td>\n",
       "      <td>0.762153</td>\n",
       "      <td>-0.089487</td>\n",
       "      <td>-0.057625</td>\n",
       "      <td>107.77</td>\n",
       "      <td>0</td>\n",
       "    </tr>\n",
       "    <tr>\n",
       "      <th>278892</th>\n",
       "      <td>168508.0</td>\n",
       "      <td>-0.343991</td>\n",
       "      <td>1.475547</td>\n",
       "      <td>0.349266</td>\n",
       "      <td>1.211181</td>\n",
       "      <td>-0.510325</td>\n",
       "      <td>-1.281538</td>\n",
       "      <td>0.455647</td>\n",
       "      <td>0.011873</td>\n",
       "      <td>-0.737317</td>\n",
       "      <td>...</td>\n",
       "      <td>0.463618</td>\n",
       "      <td>1.563284</td>\n",
       "      <td>-0.107122</td>\n",
       "      <td>1.032006</td>\n",
       "      <td>-0.465200</td>\n",
       "      <td>0.211401</td>\n",
       "      <td>0.238458</td>\n",
       "      <td>0.208167</td>\n",
       "      <td>7.84</td>\n",
       "      <td>0</td>\n",
       "    </tr>\n",
       "    <tr>\n",
       "      <th>85098</th>\n",
       "      <td>60601.0</td>\n",
       "      <td>1.185368</td>\n",
       "      <td>0.248102</td>\n",
       "      <td>1.110961</td>\n",
       "      <td>2.448941</td>\n",
       "      <td>-0.387718</td>\n",
       "      <td>0.503952</td>\n",
       "      <td>-0.546283</td>\n",
       "      <td>0.203680</td>\n",
       "      <td>0.070122</td>\n",
       "      <td>...</td>\n",
       "      <td>-0.102446</td>\n",
       "      <td>-0.226039</td>\n",
       "      <td>-0.052715</td>\n",
       "      <td>-0.481575</td>\n",
       "      <td>0.368006</td>\n",
       "      <td>0.004532</td>\n",
       "      <td>0.033685</td>\n",
       "      <td>0.027790</td>\n",
       "      <td>4.72</td>\n",
       "      <td>0</td>\n",
       "    </tr>\n",
       "  </tbody>\n",
       "</table>\n",
       "<p>5 rows × 31 columns</p>\n",
       "</div>"
      ],
      "text/plain": [
       "            Time        V1        V2        V3        V4        V5        V6  \\\n",
       "198800  132658.0  2.056433 -0.316915 -2.789687 -0.775164  2.497163  3.164444   \n",
       "95536    65359.0 -0.476480  0.967301  1.660071  0.000008 -0.106866 -0.624360   \n",
       "180242  124448.0  1.943666 -1.029557 -1.276665 -0.427737 -0.815657 -1.007531   \n",
       "278892  168508.0 -0.343991  1.475547  0.349266  1.211181 -0.510325 -1.281538   \n",
       "85098    60601.0  1.185368  0.248102  1.110961  2.448941 -0.387718  0.503952   \n",
       "\n",
       "              V7        V8        V9  ...       V21       V22       V23  \\\n",
       "198800 -0.396550  0.715194  0.448127  ...  0.243647  0.743975  0.037861   \n",
       "95536   0.599600  0.085344 -0.329163  ... -0.186026 -0.470205  0.055860   \n",
       "180242 -0.293930 -0.238641 -0.743251  ... -0.027971  0.203359  0.049295   \n",
       "278892  0.455647  0.011873 -0.737317  ...  0.463618  1.563284 -0.107122   \n",
       "85098  -0.546283  0.203680  0.070122  ... -0.102446 -0.226039 -0.052715   \n",
       "\n",
       "             V24       V25       V26       V27       V28  Amount  class  \n",
       "198800  0.737525  0.302948 -0.087858 -0.001144 -0.064954    3.80      0  \n",
       "95536   0.364065 -0.331242  0.082720  0.278155  0.119504    3.57      0  \n",
       "180242  0.092062 -0.178437  0.762153 -0.089487 -0.057625  107.77      0  \n",
       "278892  1.032006 -0.465200  0.211401  0.238458  0.208167    7.84      0  \n",
       "85098  -0.481575  0.368006  0.004532  0.033685  0.027790    4.72      0  \n",
       "\n",
       "[5 rows x 31 columns]"
      ]
     },
     "execution_count": 19,
     "metadata": {},
     "output_type": "execute_result"
    }
   ],
   "source": [
    "data.head()"
   ]
  },
  {
   "cell_type": "code",
   "execution_count": 20,
   "id": "e430c6e8",
   "metadata": {
    "execution": {
     "iopub.execute_input": "2023-05-29T07:34:59.532287Z",
     "iopub.status.busy": "2023-05-29T07:34:59.531836Z",
     "iopub.status.idle": "2023-05-29T07:34:59.544574Z",
     "shell.execute_reply": "2023-05-29T07:34:59.543660Z"
    },
    "papermill": {
     "duration": 0.033338,
     "end_time": "2023-05-29T07:34:59.546785",
     "exception": false,
     "start_time": "2023-05-29T07:34:59.513447",
     "status": "completed"
    },
    "tags": []
   },
   "outputs": [],
   "source": [
    "columns = data.iloc[:,1:-1]\n",
    "target = data.iloc[:,-1]"
   ]
  },
  {
   "cell_type": "markdown",
   "id": "f983cbf7",
   "metadata": {
    "papermill": {
     "duration": 0.01656,
     "end_time": "2023-05-29T07:34:59.580406",
     "exception": false,
     "start_time": "2023-05-29T07:34:59.563846",
     "status": "completed"
    },
    "tags": []
   },
   "source": [
    "# split the data into training and test"
   ]
  },
  {
   "cell_type": "code",
   "execution_count": 21,
   "id": "8b97b72d",
   "metadata": {
    "execution": {
     "iopub.execute_input": "2023-05-29T07:34:59.616157Z",
     "iopub.status.busy": "2023-05-29T07:34:59.615699Z",
     "iopub.status.idle": "2023-05-29T07:34:59.956342Z",
     "shell.execute_reply": "2023-05-29T07:34:59.955162Z"
    },
    "papermill": {
     "duration": 0.361822,
     "end_time": "2023-05-29T07:34:59.959207",
     "exception": false,
     "start_time": "2023-05-29T07:34:59.597385",
     "status": "completed"
    },
    "tags": []
   },
   "outputs": [],
   "source": [
    "from sklearn.model_selection import train_test_split\n",
    "x_train, x_test, y_train, y_test = train_test_split(columns, target, \n",
    "                                                    train_size=0.75,random_state=125,\n",
    "                                                   stratify=target)"
   ]
  },
  {
   "cell_type": "markdown",
   "id": "ce7337be",
   "metadata": {
    "execution": {
     "iopub.execute_input": "2023-05-29T07:08:13.082085Z",
     "iopub.status.busy": "2023-05-29T07:08:13.081414Z",
     "iopub.status.idle": "2023-05-29T07:08:13.089663Z",
     "shell.execute_reply": "2023-05-29T07:08:13.087698Z",
     "shell.execute_reply.started": "2023-05-29T07:08:13.082036Z"
    },
    "papermill": {
     "duration": 0.016584,
     "end_time": "2023-05-29T07:34:59.992840",
     "exception": false,
     "start_time": "2023-05-29T07:34:59.976256",
     "status": "completed"
    },
    "tags": []
   },
   "source": [
    "# Using Machine Learning model"
   ]
  },
  {
   "cell_type": "code",
   "execution_count": 22,
   "id": "8f89dd0f",
   "metadata": {
    "execution": {
     "iopub.execute_input": "2023-05-29T07:35:00.028956Z",
     "iopub.status.busy": "2023-05-29T07:35:00.028554Z",
     "iopub.status.idle": "2023-05-29T07:35:00.891409Z",
     "shell.execute_reply": "2023-05-29T07:35:00.889946Z"
    },
    "papermill": {
     "duration": 0.885057,
     "end_time": "2023-05-29T07:35:00.895187",
     "exception": false,
     "start_time": "2023-05-29T07:35:00.010130",
     "status": "completed"
    },
    "tags": []
   },
   "outputs": [
    {
     "data": {
      "text/html": [
       "<style>#sk-container-id-1 {color: black;background-color: white;}#sk-container-id-1 pre{padding: 0;}#sk-container-id-1 div.sk-toggleable {background-color: white;}#sk-container-id-1 label.sk-toggleable__label {cursor: pointer;display: block;width: 100%;margin-bottom: 0;padding: 0.3em;box-sizing: border-box;text-align: center;}#sk-container-id-1 label.sk-toggleable__label-arrow:before {content: \"▸\";float: left;margin-right: 0.25em;color: #696969;}#sk-container-id-1 label.sk-toggleable__label-arrow:hover:before {color: black;}#sk-container-id-1 div.sk-estimator:hover label.sk-toggleable__label-arrow:before {color: black;}#sk-container-id-1 div.sk-toggleable__content {max-height: 0;max-width: 0;overflow: hidden;text-align: left;background-color: #f0f8ff;}#sk-container-id-1 div.sk-toggleable__content pre {margin: 0.2em;color: black;border-radius: 0.25em;background-color: #f0f8ff;}#sk-container-id-1 input.sk-toggleable__control:checked~div.sk-toggleable__content {max-height: 200px;max-width: 100%;overflow: auto;}#sk-container-id-1 input.sk-toggleable__control:checked~label.sk-toggleable__label-arrow:before {content: \"▾\";}#sk-container-id-1 div.sk-estimator input.sk-toggleable__control:checked~label.sk-toggleable__label {background-color: #d4ebff;}#sk-container-id-1 div.sk-label input.sk-toggleable__control:checked~label.sk-toggleable__label {background-color: #d4ebff;}#sk-container-id-1 input.sk-hidden--visually {border: 0;clip: rect(1px 1px 1px 1px);clip: rect(1px, 1px, 1px, 1px);height: 1px;margin: -1px;overflow: hidden;padding: 0;position: absolute;width: 1px;}#sk-container-id-1 div.sk-estimator {font-family: monospace;background-color: #f0f8ff;border: 1px dotted black;border-radius: 0.25em;box-sizing: border-box;margin-bottom: 0.5em;}#sk-container-id-1 div.sk-estimator:hover {background-color: #d4ebff;}#sk-container-id-1 div.sk-parallel-item::after {content: \"\";width: 100%;border-bottom: 1px solid gray;flex-grow: 1;}#sk-container-id-1 div.sk-label:hover label.sk-toggleable__label {background-color: #d4ebff;}#sk-container-id-1 div.sk-serial::before {content: \"\";position: absolute;border-left: 1px solid gray;box-sizing: border-box;top: 0;bottom: 0;left: 50%;z-index: 0;}#sk-container-id-1 div.sk-serial {display: flex;flex-direction: column;align-items: center;background-color: white;padding-right: 0.2em;padding-left: 0.2em;position: relative;}#sk-container-id-1 div.sk-item {position: relative;z-index: 1;}#sk-container-id-1 div.sk-parallel {display: flex;align-items: stretch;justify-content: center;background-color: white;position: relative;}#sk-container-id-1 div.sk-item::before, #sk-container-id-1 div.sk-parallel-item::before {content: \"\";position: absolute;border-left: 1px solid gray;box-sizing: border-box;top: 0;bottom: 0;left: 50%;z-index: -1;}#sk-container-id-1 div.sk-parallel-item {display: flex;flex-direction: column;z-index: 1;position: relative;background-color: white;}#sk-container-id-1 div.sk-parallel-item:first-child::after {align-self: flex-end;width: 50%;}#sk-container-id-1 div.sk-parallel-item:last-child::after {align-self: flex-start;width: 50%;}#sk-container-id-1 div.sk-parallel-item:only-child::after {width: 0;}#sk-container-id-1 div.sk-dashed-wrapped {border: 1px dashed gray;margin: 0 0.4em 0.5em 0.4em;box-sizing: border-box;padding-bottom: 0.4em;background-color: white;}#sk-container-id-1 div.sk-label label {font-family: monospace;font-weight: bold;display: inline-block;line-height: 1.2em;}#sk-container-id-1 div.sk-label-container {text-align: center;}#sk-container-id-1 div.sk-container {/* jupyter's `normalize.less` sets `[hidden] { display: none; }` but bootstrap.min.css set `[hidden] { display: none !important; }` so we also need the `!important` here to be able to override the default hidden behavior on the sphinx rendered scikit-learn.org. See: https://github.com/scikit-learn/scikit-learn/issues/21755 */display: inline-block !important;position: relative;}#sk-container-id-1 div.sk-text-repr-fallback {display: none;}</style><div id=\"sk-container-id-1\" class=\"sk-top-container\"><div class=\"sk-text-repr-fallback\"><pre>LogisticRegression()</pre><b>In a Jupyter environment, please rerun this cell to show the HTML representation or trust the notebook. <br />On GitHub, the HTML representation is unable to render, please try loading this page with nbviewer.org.</b></div><div class=\"sk-container\" hidden><div class=\"sk-item\"><div class=\"sk-estimator sk-toggleable\"><input class=\"sk-toggleable__control sk-hidden--visually\" id=\"sk-estimator-id-1\" type=\"checkbox\" checked><label for=\"sk-estimator-id-1\" class=\"sk-toggleable__label sk-toggleable__label-arrow\">LogisticRegression</label><div class=\"sk-toggleable__content\"><pre>LogisticRegression()</pre></div></div></div></div></div>"
      ],
      "text/plain": [
       "LogisticRegression()"
      ]
     },
     "execution_count": 22,
     "metadata": {},
     "output_type": "execute_result"
    }
   ],
   "source": [
    "# Logistic Regression\n",
    "from sklearn.linear_model import LogisticRegression\n",
    "logit = LogisticRegression()\n",
    "logit.fit(x_train, y_train)"
   ]
  },
  {
   "cell_type": "code",
   "execution_count": 23,
   "id": "58ec4d38",
   "metadata": {
    "execution": {
     "iopub.execute_input": "2023-05-29T07:35:00.970177Z",
     "iopub.status.busy": "2023-05-29T07:35:00.969502Z",
     "iopub.status.idle": "2023-05-29T07:35:00.990394Z",
     "shell.execute_reply": "2023-05-29T07:35:00.988926Z"
    },
    "papermill": {
     "duration": 0.063149,
     "end_time": "2023-05-29T07:35:00.994567",
     "exception": false,
     "start_time": "2023-05-29T07:35:00.931418",
     "status": "completed"
    },
    "tags": []
   },
   "outputs": [],
   "source": [
    "y_pred_train = logit.predict(x_train)\n",
    "y_pred_test = logit.predict(x_test)"
   ]
  },
  {
   "cell_type": "code",
   "execution_count": 24,
   "id": "796e9680",
   "metadata": {
    "execution": {
     "iopub.execute_input": "2023-05-29T07:35:01.070320Z",
     "iopub.status.busy": "2023-05-29T07:35:01.069648Z",
     "iopub.status.idle": "2023-05-29T07:35:01.080560Z",
     "shell.execute_reply": "2023-05-29T07:35:01.079164Z"
    },
    "papermill": {
     "duration": 0.053406,
     "end_time": "2023-05-29T07:35:01.085041",
     "exception": false,
     "start_time": "2023-05-29T07:35:01.031635",
     "status": "completed"
    },
    "tags": []
   },
   "outputs": [],
   "source": [
    "from sklearn.metrics import confusion_matrix, classification_report, accuracy_score"
   ]
  },
  {
   "cell_type": "code",
   "execution_count": 25,
   "id": "fc78bc64",
   "metadata": {
    "execution": {
     "iopub.execute_input": "2023-05-29T07:35:01.134624Z",
     "iopub.status.busy": "2023-05-29T07:35:01.134251Z",
     "iopub.status.idle": "2023-05-29T07:35:01.151904Z",
     "shell.execute_reply": "2023-05-29T07:35:01.150770Z"
    },
    "papermill": {
     "duration": 0.040028,
     "end_time": "2023-05-29T07:35:01.154457",
     "exception": false,
     "start_time": "2023-05-29T07:35:01.114429",
     "status": "completed"
    },
    "tags": []
   },
   "outputs": [
    {
     "name": "stdout",
     "output_type": "stream",
     "text": [
      "Confusion Matrix - Training : [[42634     7]\n",
      " [   29    50]]\n",
      "*************************************************************************************************************************************************\n",
      "Confusion Matrix - Test : [[14212     2]\n",
      " [    9    18]]\n"
     ]
    }
   ],
   "source": [
    "print(\"Confusion Matrix - Training :\", confusion_matrix(y_train, y_pred_train))\n",
    "print(\"*****************************\"*5)\n",
    "print(\"Confusion Matrix - Test :\", confusion_matrix(y_test, y_pred_test))"
   ]
  },
  {
   "cell_type": "code",
   "execution_count": 26,
   "id": "81996b33",
   "metadata": {
    "execution": {
     "iopub.execute_input": "2023-05-29T07:35:01.191305Z",
     "iopub.status.busy": "2023-05-29T07:35:01.190858Z",
     "iopub.status.idle": "2023-05-29T07:35:01.266722Z",
     "shell.execute_reply": "2023-05-29T07:35:01.265034Z"
    },
    "papermill": {
     "duration": 0.097155,
     "end_time": "2023-05-29T07:35:01.269464",
     "exception": false,
     "start_time": "2023-05-29T07:35:01.172309",
     "status": "completed"
    },
    "tags": []
   },
   "outputs": [
    {
     "name": "stdout",
     "output_type": "stream",
     "text": [
      "              precision    recall  f1-score   support\n",
      "\n",
      "           0       1.00      1.00      1.00     42641\n",
      "           1       0.88      0.63      0.74        79\n",
      "\n",
      "    accuracy                           1.00     42720\n",
      "   macro avg       0.94      0.82      0.87     42720\n",
      "weighted avg       1.00      1.00      1.00     42720\n",
      "\n",
      "*************************************************************************************************************************************************\n",
      "              precision    recall  f1-score   support\n",
      "\n",
      "           0       1.00      1.00      1.00     14214\n",
      "           1       0.90      0.67      0.77        27\n",
      "\n",
      "    accuracy                           1.00     14241\n",
      "   macro avg       0.95      0.83      0.88     14241\n",
      "weighted avg       1.00      1.00      1.00     14241\n",
      "\n"
     ]
    }
   ],
   "source": [
    "print(classification_report(y_train, y_pred_train))\n",
    "print(\"*****************************\"*5)\n",
    "print(classification_report(y_test, y_pred_test))"
   ]
  },
  {
   "cell_type": "code",
   "execution_count": 27,
   "id": "8667e370",
   "metadata": {
    "execution": {
     "iopub.execute_input": "2023-05-29T07:35:01.306338Z",
     "iopub.status.busy": "2023-05-29T07:35:01.305700Z",
     "iopub.status.idle": "2023-05-29T07:35:01.316812Z",
     "shell.execute_reply": "2023-05-29T07:35:01.315917Z"
    },
    "papermill": {
     "duration": 0.032197,
     "end_time": "2023-05-29T07:35:01.319264",
     "exception": false,
     "start_time": "2023-05-29T07:35:01.287067",
     "status": "completed"
    },
    "tags": []
   },
   "outputs": [
    {
     "name": "stdout",
     "output_type": "stream",
     "text": [
      "Accuracy - Training : 0.9991573033707866\n",
      "*************************************************************************************************************************************************\n",
      "Accuracy - Test : 0.9992275823327014\n"
     ]
    }
   ],
   "source": [
    "print(\"Accuracy - Training :\", accuracy_score(y_train, y_pred_train))\n",
    "print(\"*****************************\"*5)\n",
    "print(\"Accuracy - Test :\", accuracy_score(y_test, y_pred_test))"
   ]
  },
  {
   "cell_type": "code",
   "execution_count": 28,
   "id": "f84c2f4f",
   "metadata": {
    "execution": {
     "iopub.execute_input": "2023-05-29T07:35:01.357544Z",
     "iopub.status.busy": "2023-05-29T07:35:01.357112Z",
     "iopub.status.idle": "2023-05-29T07:36:01.006722Z",
     "shell.execute_reply": "2023-05-29T07:36:01.004838Z"
    },
    "papermill": {
     "duration": 59.686641,
     "end_time": "2023-05-29T07:36:01.024588",
     "exception": false,
     "start_time": "2023-05-29T07:35:01.337947",
     "status": "completed"
    },
    "tags": []
   },
   "outputs": [
    {
     "name": "stdout",
     "output_type": "stream",
     "text": [
      "              precision    recall  f1-score   support\n",
      "\n",
      "           0       1.00      1.00      1.00     42641\n",
      "           1       1.00      1.00      1.00        79\n",
      "\n",
      "    accuracy                           1.00     42720\n",
      "   macro avg       1.00      1.00      1.00     42720\n",
      "weighted avg       1.00      1.00      1.00     42720\n",
      "\n",
      "*************************************************************************************************************************************************\n",
      "              precision    recall  f1-score   support\n",
      "\n",
      "           0       1.00      1.00      1.00     14214\n",
      "           1       0.77      0.89      0.83        27\n",
      "\n",
      "    accuracy                           1.00     14241\n",
      "   macro avg       0.89      0.94      0.91     14241\n",
      "weighted avg       1.00      1.00      1.00     14241\n",
      "\n"
     ]
    }
   ],
   "source": [
    "# Ensemble Learning - Bagging\n",
    "from sklearn.ensemble import BaggingClassifier\n",
    "bgcl = BaggingClassifier(n_estimators=50,random_state=1)\n",
    "bgcl.fit(x_train, y_train)\n",
    "y_pred_train_bg = bgcl.predict(x_train)\n",
    "y_pred_test_bg = bgcl.predict(x_test)\n",
    "print(classification_report(y_train, y_pred_train_bg))\n",
    "print(\"*****************************\"*5)\n",
    "print(classification_report(y_test, y_pred_test_bg))"
   ]
  },
  {
   "cell_type": "code",
   "execution_count": 29,
   "id": "1c44b98c",
   "metadata": {
    "execution": {
     "iopub.execute_input": "2023-05-29T07:36:01.065019Z",
     "iopub.status.busy": "2023-05-29T07:36:01.064539Z",
     "iopub.status.idle": "2023-05-29T07:36:01.079410Z",
     "shell.execute_reply": "2023-05-29T07:36:01.077905Z"
    },
    "papermill": {
     "duration": 0.038077,
     "end_time": "2023-05-29T07:36:01.082021",
     "exception": false,
     "start_time": "2023-05-29T07:36:01.043944",
     "status": "completed"
    },
    "tags": []
   },
   "outputs": [
    {
     "name": "stdout",
     "output_type": "stream",
     "text": [
      "Accuracy - Training : 1.0\n",
      "*************************************************************************************************************************************************\n",
      "Accuracy - Test : 0.9992978021206376\n"
     ]
    }
   ],
   "source": [
    "print(\"Accuracy - Training :\", accuracy_score(y_train, y_pred_train_bg))\n",
    "print(\"*****************************\"*5)\n",
    "print(\"Accuracy - Test :\", accuracy_score(y_test, y_pred_test_bg))"
   ]
  },
  {
   "cell_type": "code",
   "execution_count": 30,
   "id": "7f3a20d6",
   "metadata": {
    "execution": {
     "iopub.execute_input": "2023-05-29T07:36:01.122006Z",
     "iopub.status.busy": "2023-05-29T07:36:01.121460Z",
     "iopub.status.idle": "2023-05-29T07:36:02.913348Z",
     "shell.execute_reply": "2023-05-29T07:36:02.911324Z"
    },
    "papermill": {
     "duration": 1.815821,
     "end_time": "2023-05-29T07:36:02.916455",
     "exception": false,
     "start_time": "2023-05-29T07:36:01.100634",
     "status": "completed"
    },
    "tags": []
   },
   "outputs": [
    {
     "name": "stdout",
     "output_type": "stream",
     "text": [
      "              precision    recall  f1-score   support\n",
      "\n",
      "           0       1.00      1.00      1.00     42641\n",
      "           1       1.00      1.00      1.00        79\n",
      "\n",
      "    accuracy                           1.00     42720\n",
      "   macro avg       1.00      1.00      1.00     42720\n",
      "weighted avg       1.00      1.00      1.00     42720\n",
      "\n",
      "*************************************************************************************************************************************************\n",
      "              precision    recall  f1-score   support\n",
      "\n",
      "           0       1.00      1.00      1.00     14214\n",
      "           1       0.72      0.85      0.78        27\n",
      "\n",
      "    accuracy                           1.00     14241\n",
      "   macro avg       0.86      0.93      0.89     14241\n",
      "weighted avg       1.00      1.00      1.00     14241\n",
      "\n"
     ]
    }
   ],
   "source": [
    "# Decision Tree\n",
    "from sklearn.tree import DecisionTreeClassifier\n",
    "dtree = DecisionTreeClassifier(criterion='entropy')\n",
    "dtree.fit(x_train, y_train)\n",
    "y_pred_train_dt = dtree.predict(x_train)\n",
    "y_pred_test_dt = dtree.predict(x_test)\n",
    "print(classification_report(y_train, y_pred_train_dt))\n",
    "print(\"*****************************\"*5)\n",
    "print(classification_report(y_test, y_pred_test_dt))"
   ]
  },
  {
   "cell_type": "code",
   "execution_count": 31,
   "id": "bfe597de",
   "metadata": {
    "execution": {
     "iopub.execute_input": "2023-05-29T07:36:02.956965Z",
     "iopub.status.busy": "2023-05-29T07:36:02.955912Z",
     "iopub.status.idle": "2023-05-29T07:36:16.440319Z",
     "shell.execute_reply": "2023-05-29T07:36:16.439202Z"
    },
    "papermill": {
     "duration": 13.507687,
     "end_time": "2023-05-29T07:36:16.443059",
     "exception": false,
     "start_time": "2023-05-29T07:36:02.935372",
     "status": "completed"
    },
    "tags": []
   },
   "outputs": [
    {
     "name": "stdout",
     "output_type": "stream",
     "text": [
      "              precision    recall  f1-score   support\n",
      "\n",
      "           0       1.00      1.00      1.00     42641\n",
      "           1       0.93      0.81      0.86        79\n",
      "\n",
      "    accuracy                           1.00     42720\n",
      "   macro avg       0.96      0.91      0.93     42720\n",
      "weighted avg       1.00      1.00      1.00     42720\n",
      "\n",
      "*************************************************************************************************************************************************\n",
      "              precision    recall  f1-score   support\n",
      "\n",
      "           0       1.00      1.00      1.00     14214\n",
      "           1       0.88      0.81      0.85        27\n",
      "\n",
      "    accuracy                           1.00     14241\n",
      "   macro avg       0.94      0.91      0.92     14241\n",
      "weighted avg       1.00      1.00      1.00     14241\n",
      "\n"
     ]
    }
   ],
   "source": [
    "# Ensemble Learning - AdaBoosting method\n",
    "from sklearn.ensemble import AdaBoostClassifier\n",
    "adbcl = AdaBoostClassifier(random_state=1)\n",
    "adbcl.fit(x_train, y_train)\n",
    "y_pred_train_adb = adbcl.predict(x_train)\n",
    "y_pred_test_adb = adbcl.predict(x_test)\n",
    "print(classification_report(y_train, y_pred_train_adb))\n",
    "print(\"*****************************\"*5)\n",
    "print(classification_report(y_test, y_pred_test_adb))"
   ]
  },
  {
   "cell_type": "code",
   "execution_count": 32,
   "id": "c8d51e69",
   "metadata": {
    "execution": {
     "iopub.execute_input": "2023-05-29T07:36:16.483091Z",
     "iopub.status.busy": "2023-05-29T07:36:16.482508Z",
     "iopub.status.idle": "2023-05-29T07:36:47.649228Z",
     "shell.execute_reply": "2023-05-29T07:36:47.647409Z"
    },
    "papermill": {
     "duration": 31.208988,
     "end_time": "2023-05-29T07:36:47.671043",
     "exception": false,
     "start_time": "2023-05-29T07:36:16.462055",
     "status": "completed"
    },
    "tags": []
   },
   "outputs": [
    {
     "name": "stdout",
     "output_type": "stream",
     "text": [
      "              precision    recall  f1-score   support\n",
      "\n",
      "           0       1.00      1.00      1.00     42641\n",
      "           1       0.97      0.87      0.92        79\n",
      "\n",
      "    accuracy                           1.00     42720\n",
      "   macro avg       0.99      0.94      0.96     42720\n",
      "weighted avg       1.00      1.00      1.00     42720\n",
      "\n",
      "*************************************************************************************************************************************************\n",
      "              precision    recall  f1-score   support\n",
      "\n",
      "           0       1.00      1.00      1.00     14214\n",
      "           1       0.83      0.70      0.76        27\n",
      "\n",
      "    accuracy                           1.00     14241\n",
      "   macro avg       0.91      0.85      0.88     14241\n",
      "weighted avg       1.00      1.00      1.00     14241\n",
      "\n"
     ]
    }
   ],
   "source": [
    "# Gradient Boosting\n",
    "from sklearn.ensemble import GradientBoostingClassifier\n",
    "gbcl = GradientBoostingClassifier(n_estimators=50, random_state=1)\n",
    "gbcl.fit(x_train, y_train)\n",
    "y_pred_train_gd = gbcl.predict(x_train)\n",
    "y_pred_test_gd = gbcl.predict(x_test)\n",
    "print(classification_report(y_train, y_pred_train_gd))\n",
    "print(\"*****************************\"*5)\n",
    "print(classification_report(y_test, y_pred_test_gd))"
   ]
  },
  {
   "cell_type": "code",
   "execution_count": 33,
   "id": "2816b9f9",
   "metadata": {
    "execution": {
     "iopub.execute_input": "2023-05-29T07:36:47.713136Z",
     "iopub.status.busy": "2023-05-29T07:36:47.711662Z",
     "iopub.status.idle": "2023-05-29T07:36:54.099812Z",
     "shell.execute_reply": "2023-05-29T07:36:54.097504Z"
    },
    "papermill": {
     "duration": 6.412878,
     "end_time": "2023-05-29T07:36:54.102910",
     "exception": false,
     "start_time": "2023-05-29T07:36:47.690032",
     "status": "completed"
    },
    "tags": []
   },
   "outputs": [
    {
     "name": "stdout",
     "output_type": "stream",
     "text": [
      "              precision    recall  f1-score   support\n",
      "\n",
      "           0       1.00      1.00      1.00     42641\n",
      "           1       1.00      1.00      1.00        79\n",
      "\n",
      "    accuracy                           1.00     42720\n",
      "   macro avg       1.00      1.00      1.00     42720\n",
      "weighted avg       1.00      1.00      1.00     42720\n",
      "\n",
      "*************************************************************************************************************************************************\n",
      "              precision    recall  f1-score   support\n",
      "\n",
      "           0       1.00      1.00      1.00     14214\n",
      "           1       0.96      0.85      0.90        27\n",
      "\n",
      "    accuracy                           1.00     14241\n",
      "   macro avg       0.98      0.93      0.95     14241\n",
      "weighted avg       1.00      1.00      1.00     14241\n",
      "\n"
     ]
    }
   ],
   "source": [
    "# XGBoost\n",
    "from xgboost import XGBClassifier\n",
    "xgbcl = XGBClassifier()\n",
    "xgbcl.fit(x_train, y_train)\n",
    "y_pred_train_xgb = xgbcl.predict(x_train)\n",
    "y_pred_test_xgb = xgbcl.predict(x_test)\n",
    "print(classification_report(y_train, y_pred_train_xgb))\n",
    "print(\"*****************************\"*5)\n",
    "print(classification_report(y_test, y_pred_test_xgb))"
   ]
  },
  {
   "cell_type": "code",
   "execution_count": 34,
   "id": "4c57ea4f",
   "metadata": {
    "execution": {
     "iopub.execute_input": "2023-05-29T07:36:54.144605Z",
     "iopub.status.busy": "2023-05-29T07:36:54.144042Z",
     "iopub.status.idle": "2023-05-29T07:36:54.153986Z",
     "shell.execute_reply": "2023-05-29T07:36:54.152664Z"
    },
    "papermill": {
     "duration": 0.034012,
     "end_time": "2023-05-29T07:36:54.156662",
     "exception": false,
     "start_time": "2023-05-29T07:36:54.122650",
     "status": "completed"
    },
    "tags": []
   },
   "outputs": [],
   "source": [
    "# IsolationForest, LocalOutlierFactor, OneClassSVM\n",
    "from sklearn.ensemble import IsolationForest\n",
    "from sklearn.neighbors import LocalOutlierFactor\n",
    "from sklearn.svm import OneClassSVM\n",
    "Classification = {\"Isolation Forest\" : IsolationForest(max_samples=len(columns),\n",
    "                                                     contamination=outlier_fraction),\n",
    "                 \n",
    "                 \"Local Outlier Factor\" : LocalOutlierFactor(contamination=outlier_fraction),\n",
    "                 \n",
    "                 \"One Class SVM\" : OneClassSVM()}"
   ]
  },
  {
   "cell_type": "code",
   "execution_count": 35,
   "id": "ae173f52",
   "metadata": {
    "execution": {
     "iopub.execute_input": "2023-05-29T07:36:54.198821Z",
     "iopub.status.busy": "2023-05-29T07:36:54.197950Z",
     "iopub.status.idle": "2023-05-29T07:45:55.251615Z",
     "shell.execute_reply": "2023-05-29T07:45:55.250069Z"
    },
    "papermill": {
     "duration": 541.09871,
     "end_time": "2023-05-29T07:45:55.274837",
     "exception": false,
     "start_time": "2023-05-29T07:36:54.176127",
     "status": "completed"
    },
    "tags": []
   },
   "outputs": [
    {
     "name": "stdout",
     "output_type": "stream",
     "text": [
      "Isolation Forest : 148\n",
      "Accuracy Score :\n",
      "0.9974017310089359\n",
      "Classification Report :\n",
      "              precision    recall  f1-score   support\n",
      "\n",
      "           0       1.00      1.00      1.00     56855\n",
      "           1       0.30      0.30      0.30       106\n",
      "\n",
      "    accuracy                           1.00     56961\n",
      "   macro avg       0.65      0.65      0.65     56961\n",
      "weighted avg       1.00      1.00      1.00     56961\n",
      "\n",
      "Local Outlier Factor : 170\n",
      "Accuracy Score :\n",
      "0.9970155018345885\n",
      "Classification Report :\n",
      "              precision    recall  f1-score   support\n",
      "\n",
      "           0       1.00      1.00      1.00     56855\n",
      "           1       0.20      0.20      0.20       106\n",
      "\n",
      "    accuracy                           1.00     56961\n",
      "   macro avg       0.60      0.60      0.60     56961\n",
      "weighted avg       1.00      1.00      1.00     56961\n",
      "\n",
      "One Class SVM : 28403\n",
      "Accuracy Score :\n",
      "0.5013605800459964\n",
      "Classification Report :\n",
      "              precision    recall  f1-score   support\n",
      "\n",
      "           0       1.00      0.50      0.67     56855\n",
      "           1       0.00      0.87      0.01       106\n",
      "\n",
      "    accuracy                           0.50     56961\n",
      "   macro avg       0.50      0.68      0.34     56961\n",
      "weighted avg       1.00      0.50      0.67     56961\n",
      "\n"
     ]
    }
   ],
   "source": [
    "n_outlier = len(fraud)\n",
    "\n",
    "for i, (clf_name, clf) in enumerate(Classification.items()):\n",
    "    if clf_name =='Local Outlier Factor' :\n",
    "        y_pred = clf.fit_predict(columns)\n",
    "        score_prediction = clf.negative_outlier_factor_\n",
    "        \n",
    "    elif clf_name =='One Class SVM' :\n",
    "        clf.fit(columns)\n",
    "        y_pred = clf.predict(columns)\n",
    "        \n",
    "    else:\n",
    "        clf.fit(columns)\n",
    "        score_prediction = clf.decision_function(columns)\n",
    "        y_pred = clf.predict(columns)\n",
    "        \n",
    "    y_pred[y_pred==1] = 0\n",
    "    y_pred[y_pred==-1] = 1\n",
    "    n_error = (y_pred !=target).sum()\n",
    "    \n",
    "    print(\"{} : {}\".format(clf_name, n_error))\n",
    "    print(\"Accuracy Score :\")\n",
    "    \n",
    "    print(accuracy_score(target, y_pred))\n",
    "    print(\"Classification Report :\")\n",
    "    print(classification_report(target, y_pred))"
   ]
  },
  {
   "cell_type": "code",
   "execution_count": null,
   "id": "7921dae8",
   "metadata": {
    "papermill": {
     "duration": 0.019154,
     "end_time": "2023-05-29T07:45:55.315644",
     "exception": false,
     "start_time": "2023-05-29T07:45:55.296490",
     "status": "completed"
    },
    "tags": []
   },
   "outputs": [],
   "source": []
  }
 ],
 "metadata": {
  "kernelspec": {
   "display_name": "Python 3",
   "language": "python",
   "name": "python3"
  },
  "language_info": {
   "codemirror_mode": {
    "name": "ipython",
    "version": 3
   },
   "file_extension": ".py",
   "mimetype": "text/x-python",
   "name": "python",
   "nbconvert_exporter": "python",
   "pygments_lexer": "ipython3",
   "version": "3.10.10"
  },
  "papermill": {
   "default_parameters": {},
   "duration": 679.850058,
   "end_time": "2023-05-29T07:45:57.670088",
   "environment_variables": {},
   "exception": null,
   "input_path": "__notebook__.ipynb",
   "output_path": "__notebook__.ipynb",
   "parameters": {},
   "start_time": "2023-05-29T07:34:37.820030",
   "version": "2.4.0"
  }
 },
 "nbformat": 4,
 "nbformat_minor": 5
}
